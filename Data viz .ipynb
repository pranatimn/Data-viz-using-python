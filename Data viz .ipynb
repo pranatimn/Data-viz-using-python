{
 "cells": [
  {
   "cell_type": "code",
   "execution_count": 36,
   "id": "a0c9b6e5",
   "metadata": {},
   "outputs": [],
   "source": [
    "import pandas as pd\n",
    "import numpy as np\n",
    "\n",
    "import matplotlib.pyplot as plt\n",
    "import seaborn as sns"
   ]
  },
  {
   "cell_type": "code",
   "execution_count": 37,
   "id": "3873cd8c",
   "metadata": {
    "scrolled": true
   },
   "outputs": [],
   "source": [
    "df = pd.read_csv('Benins_depatments.csv')"
   ]
  },
  {
   "cell_type": "code",
   "execution_count": 38,
   "id": "0ed4048c",
   "metadata": {
    "scrolled": true
   },
   "outputs": [
    {
     "data": {
      "text/html": [
       "<div>\n",
       "<style scoped>\n",
       "    .dataframe tbody tr th:only-of-type {\n",
       "        vertical-align: middle;\n",
       "    }\n",
       "\n",
       "    .dataframe tbody tr th {\n",
       "        vertical-align: top;\n",
       "    }\n",
       "\n",
       "    .dataframe thead th {\n",
       "        text-align: right;\n",
       "    }\n",
       "</style>\n",
       "<table border=\"1\" class=\"dataframe\">\n",
       "  <thead>\n",
       "    <tr style=\"text-align: right;\">\n",
       "      <th></th>\n",
       "      <th>Unnamed: 0</th>\n",
       "      <th>Département</th>\n",
       "      <th>Population</th>\n",
       "      <th>Superficie (en km²)</th>\n",
       "    </tr>\n",
       "  </thead>\n",
       "  <tbody>\n",
       "    <tr>\n",
       "      <th>0</th>\n",
       "      <td>0</td>\n",
       "      <td>Atlantique</td>\n",
       "      <td>1480983</td>\n",
       "      <td>3233</td>\n",
       "    </tr>\n",
       "    <tr>\n",
       "      <th>1</th>\n",
       "      <td>1</td>\n",
       "      <td>Ouémé</td>\n",
       "      <td>1349986</td>\n",
       "      <td>1281</td>\n",
       "    </tr>\n",
       "    <tr>\n",
       "      <th>2</th>\n",
       "      <td>2</td>\n",
       "      <td>Borgou</td>\n",
       "      <td>1337792</td>\n",
       "      <td>25856</td>\n",
       "    </tr>\n",
       "    <tr>\n",
       "      <th>3</th>\n",
       "      <td>3</td>\n",
       "      <td>Littoral</td>\n",
       "      <td>1228667</td>\n",
       "      <td>79</td>\n",
       "    </tr>\n",
       "    <tr>\n",
       "      <th>4</th>\n",
       "      <td>4</td>\n",
       "      <td>Zou</td>\n",
       "      <td>1108320</td>\n",
       "      <td>5243</td>\n",
       "    </tr>\n",
       "    <tr>\n",
       "      <th>5</th>\n",
       "      <td>5</td>\n",
       "      <td>Atacora</td>\n",
       "      <td>1014961</td>\n",
       "      <td>20499</td>\n",
       "    </tr>\n",
       "    <tr>\n",
       "      <th>6</th>\n",
       "      <td>6</td>\n",
       "      <td>Collines</td>\n",
       "      <td>990033</td>\n",
       "      <td>13931</td>\n",
       "    </tr>\n",
       "    <tr>\n",
       "      <th>7</th>\n",
       "      <td>7</td>\n",
       "      <td>Couffo</td>\n",
       "      <td>969090</td>\n",
       "      <td>2404</td>\n",
       "    </tr>\n",
       "    <tr>\n",
       "      <th>8</th>\n",
       "      <td>8</td>\n",
       "      <td>Alibori</td>\n",
       "      <td>962637</td>\n",
       "      <td>26242</td>\n",
       "    </tr>\n",
       "    <tr>\n",
       "      <th>9</th>\n",
       "      <td>9</td>\n",
       "      <td>Plateau</td>\n",
       "      <td>752083</td>\n",
       "      <td>3264</td>\n",
       "    </tr>\n",
       "    <tr>\n",
       "      <th>10</th>\n",
       "      <td>10</td>\n",
       "      <td>Mono</td>\n",
       "      <td>665111</td>\n",
       "      <td>1605</td>\n",
       "    </tr>\n",
       "    <tr>\n",
       "      <th>11</th>\n",
       "      <td>11</td>\n",
       "      <td>Donga</td>\n",
       "      <td>646684</td>\n",
       "      <td>11126</td>\n",
       "    </tr>\n",
       "  </tbody>\n",
       "</table>\n",
       "</div>"
      ],
      "text/plain": [
       "    Unnamed: 0 Département  Population  Superficie (en km²)\n",
       "0            0  Atlantique     1480983                 3233\n",
       "1            1       Ouémé     1349986                 1281\n",
       "2            2      Borgou     1337792                25856\n",
       "3            3    Littoral     1228667                   79\n",
       "4            4         Zou     1108320                 5243\n",
       "5            5     Atacora     1014961                20499\n",
       "6            6    Collines      990033                13931\n",
       "7            7      Couffo      969090                 2404\n",
       "8            8     Alibori      962637                26242\n",
       "9            9     Plateau      752083                 3264\n",
       "10          10        Mono      665111                 1605\n",
       "11          11       Donga      646684                11126"
      ]
     },
     "execution_count": 38,
     "metadata": {},
     "output_type": "execute_result"
    }
   ],
   "source": [
    "df"
   ]
  },
  {
   "cell_type": "code",
   "execution_count": 4,
   "id": "f13e38a8",
   "metadata": {},
   "outputs": [
    {
     "data": {
      "text/plain": [
       "Index(['Unnamed: 0', 'Département', 'Population', 'Superficie (en km²)'], dtype='object')"
      ]
     },
     "execution_count": 4,
     "metadata": {},
     "output_type": "execute_result"
    }
   ],
   "source": [
    "df.columns"
   ]
  },
  {
   "cell_type": "code",
   "execution_count": 5,
   "id": "42a03856",
   "metadata": {},
   "outputs": [],
   "source": [
    "del df['Unnamed: 0']"
   ]
  },
  {
   "cell_type": "code",
   "execution_count": 6,
   "id": "6b3af1f7",
   "metadata": {},
   "outputs": [
    {
     "data": {
      "text/html": [
       "<div>\n",
       "<style scoped>\n",
       "    .dataframe tbody tr th:only-of-type {\n",
       "        vertical-align: middle;\n",
       "    }\n",
       "\n",
       "    .dataframe tbody tr th {\n",
       "        vertical-align: top;\n",
       "    }\n",
       "\n",
       "    .dataframe thead th {\n",
       "        text-align: right;\n",
       "    }\n",
       "</style>\n",
       "<table border=\"1\" class=\"dataframe\">\n",
       "  <thead>\n",
       "    <tr style=\"text-align: right;\">\n",
       "      <th></th>\n",
       "      <th>Département</th>\n",
       "      <th>Population</th>\n",
       "      <th>Superficie (en km²)</th>\n",
       "    </tr>\n",
       "  </thead>\n",
       "  <tbody>\n",
       "    <tr>\n",
       "      <th>0</th>\n",
       "      <td>Atlantique</td>\n",
       "      <td>1480983</td>\n",
       "      <td>3233</td>\n",
       "    </tr>\n",
       "    <tr>\n",
       "      <th>1</th>\n",
       "      <td>Ouémé</td>\n",
       "      <td>1349986</td>\n",
       "      <td>1281</td>\n",
       "    </tr>\n",
       "    <tr>\n",
       "      <th>2</th>\n",
       "      <td>Borgou</td>\n",
       "      <td>1337792</td>\n",
       "      <td>25856</td>\n",
       "    </tr>\n",
       "    <tr>\n",
       "      <th>3</th>\n",
       "      <td>Littoral</td>\n",
       "      <td>1228667</td>\n",
       "      <td>79</td>\n",
       "    </tr>\n",
       "    <tr>\n",
       "      <th>4</th>\n",
       "      <td>Zou</td>\n",
       "      <td>1108320</td>\n",
       "      <td>5243</td>\n",
       "    </tr>\n",
       "    <tr>\n",
       "      <th>5</th>\n",
       "      <td>Atacora</td>\n",
       "      <td>1014961</td>\n",
       "      <td>20499</td>\n",
       "    </tr>\n",
       "    <tr>\n",
       "      <th>6</th>\n",
       "      <td>Collines</td>\n",
       "      <td>990033</td>\n",
       "      <td>13931</td>\n",
       "    </tr>\n",
       "    <tr>\n",
       "      <th>7</th>\n",
       "      <td>Couffo</td>\n",
       "      <td>969090</td>\n",
       "      <td>2404</td>\n",
       "    </tr>\n",
       "    <tr>\n",
       "      <th>8</th>\n",
       "      <td>Alibori</td>\n",
       "      <td>962637</td>\n",
       "      <td>26242</td>\n",
       "    </tr>\n",
       "    <tr>\n",
       "      <th>9</th>\n",
       "      <td>Plateau</td>\n",
       "      <td>752083</td>\n",
       "      <td>3264</td>\n",
       "    </tr>\n",
       "    <tr>\n",
       "      <th>10</th>\n",
       "      <td>Mono</td>\n",
       "      <td>665111</td>\n",
       "      <td>1605</td>\n",
       "    </tr>\n",
       "    <tr>\n",
       "      <th>11</th>\n",
       "      <td>Donga</td>\n",
       "      <td>646684</td>\n",
       "      <td>11126</td>\n",
       "    </tr>\n",
       "  </tbody>\n",
       "</table>\n",
       "</div>"
      ],
      "text/plain": [
       "   Département  Population  Superficie (en km²)\n",
       "0   Atlantique     1480983                 3233\n",
       "1        Ouémé     1349986                 1281\n",
       "2       Borgou     1337792                25856\n",
       "3     Littoral     1228667                   79\n",
       "4          Zou     1108320                 5243\n",
       "5      Atacora     1014961                20499\n",
       "6     Collines      990033                13931\n",
       "7       Couffo      969090                 2404\n",
       "8      Alibori      962637                26242\n",
       "9      Plateau      752083                 3264\n",
       "10        Mono      665111                 1605\n",
       "11       Donga      646684                11126"
      ]
     },
     "execution_count": 6,
     "metadata": {},
     "output_type": "execute_result"
    }
   ],
   "source": [
    "df"
   ]
  },
  {
   "cell_type": "code",
   "execution_count": 7,
   "id": "55eaaf22",
   "metadata": {},
   "outputs": [
    {
     "data": {
      "text/plain": [
       "Index(['Département', 'Population', 'Superficie (en km²)'], dtype='object')"
      ]
     },
     "execution_count": 7,
     "metadata": {},
     "output_type": "execute_result"
    }
   ],
   "source": [
    "df.columns"
   ]
  },
  {
   "cell_type": "code",
   "execution_count": 8,
   "id": "2f1b28dd",
   "metadata": {},
   "outputs": [
    {
     "data": {
      "text/html": [
       "<div>\n",
       "<style scoped>\n",
       "    .dataframe tbody tr th:only-of-type {\n",
       "        vertical-align: middle;\n",
       "    }\n",
       "\n",
       "    .dataframe tbody tr th {\n",
       "        vertical-align: top;\n",
       "    }\n",
       "\n",
       "    .dataframe thead th {\n",
       "        text-align: right;\n",
       "    }\n",
       "</style>\n",
       "<table border=\"1\" class=\"dataframe\">\n",
       "  <thead>\n",
       "    <tr style=\"text-align: right;\">\n",
       "      <th></th>\n",
       "      <th>Département</th>\n",
       "      <th>Population</th>\n",
       "      <th>Superficie (en km²)</th>\n",
       "    </tr>\n",
       "  </thead>\n",
       "  <tbody>\n",
       "    <tr>\n",
       "      <th>0</th>\n",
       "      <td>Atlantique</td>\n",
       "      <td>1480983</td>\n",
       "      <td>3233</td>\n",
       "    </tr>\n",
       "    <tr>\n",
       "      <th>1</th>\n",
       "      <td>Ouémé</td>\n",
       "      <td>1349986</td>\n",
       "      <td>1281</td>\n",
       "    </tr>\n",
       "    <tr>\n",
       "      <th>2</th>\n",
       "      <td>Borgou</td>\n",
       "      <td>1337792</td>\n",
       "      <td>25856</td>\n",
       "    </tr>\n",
       "    <tr>\n",
       "      <th>3</th>\n",
       "      <td>Littoral</td>\n",
       "      <td>1228667</td>\n",
       "      <td>79</td>\n",
       "    </tr>\n",
       "    <tr>\n",
       "      <th>4</th>\n",
       "      <td>Zou</td>\n",
       "      <td>1108320</td>\n",
       "      <td>5243</td>\n",
       "    </tr>\n",
       "  </tbody>\n",
       "</table>\n",
       "</div>"
      ],
      "text/plain": [
       "  Département  Population  Superficie (en km²)\n",
       "0  Atlantique     1480983                 3233\n",
       "1       Ouémé     1349986                 1281\n",
       "2      Borgou     1337792                25856\n",
       "3    Littoral     1228667                   79\n",
       "4         Zou     1108320                 5243"
      ]
     },
     "execution_count": 8,
     "metadata": {},
     "output_type": "execute_result"
    }
   ],
   "source": [
    "df.head()"
   ]
  },
  {
   "cell_type": "code",
   "execution_count": 9,
   "id": "d9a8f8ff",
   "metadata": {},
   "outputs": [
    {
     "data": {
      "text/html": [
       "<div>\n",
       "<style scoped>\n",
       "    .dataframe tbody tr th:only-of-type {\n",
       "        vertical-align: middle;\n",
       "    }\n",
       "\n",
       "    .dataframe tbody tr th {\n",
       "        vertical-align: top;\n",
       "    }\n",
       "\n",
       "    .dataframe thead th {\n",
       "        text-align: right;\n",
       "    }\n",
       "</style>\n",
       "<table border=\"1\" class=\"dataframe\">\n",
       "  <thead>\n",
       "    <tr style=\"text-align: right;\">\n",
       "      <th></th>\n",
       "      <th>Département</th>\n",
       "      <th>Population</th>\n",
       "      <th>Superficie (en km²)</th>\n",
       "    </tr>\n",
       "  </thead>\n",
       "  <tbody>\n",
       "    <tr>\n",
       "      <th>7</th>\n",
       "      <td>Couffo</td>\n",
       "      <td>969090</td>\n",
       "      <td>2404</td>\n",
       "    </tr>\n",
       "    <tr>\n",
       "      <th>8</th>\n",
       "      <td>Alibori</td>\n",
       "      <td>962637</td>\n",
       "      <td>26242</td>\n",
       "    </tr>\n",
       "    <tr>\n",
       "      <th>9</th>\n",
       "      <td>Plateau</td>\n",
       "      <td>752083</td>\n",
       "      <td>3264</td>\n",
       "    </tr>\n",
       "    <tr>\n",
       "      <th>10</th>\n",
       "      <td>Mono</td>\n",
       "      <td>665111</td>\n",
       "      <td>1605</td>\n",
       "    </tr>\n",
       "    <tr>\n",
       "      <th>11</th>\n",
       "      <td>Donga</td>\n",
       "      <td>646684</td>\n",
       "      <td>11126</td>\n",
       "    </tr>\n",
       "  </tbody>\n",
       "</table>\n",
       "</div>"
      ],
      "text/plain": [
       "   Département  Population  Superficie (en km²)\n",
       "7       Couffo      969090                 2404\n",
       "8      Alibori      962637                26242\n",
       "9      Plateau      752083                 3264\n",
       "10        Mono      665111                 1605\n",
       "11       Donga      646684                11126"
      ]
     },
     "execution_count": 9,
     "metadata": {},
     "output_type": "execute_result"
    }
   ],
   "source": [
    "df.tail()"
   ]
  },
  {
   "cell_type": "code",
   "execution_count": 10,
   "id": "d17af46c",
   "metadata": {},
   "outputs": [
    {
     "data": {
      "text/plain": [
       "(12, 3)"
      ]
     },
     "execution_count": 10,
     "metadata": {},
     "output_type": "execute_result"
    }
   ],
   "source": [
    "df.shape"
   ]
  },
  {
   "cell_type": "code",
   "execution_count": 11,
   "id": "11d1af02",
   "metadata": {},
   "outputs": [
    {
     "data": {
      "text/html": [
       "<div>\n",
       "<style scoped>\n",
       "    .dataframe tbody tr th:only-of-type {\n",
       "        vertical-align: middle;\n",
       "    }\n",
       "\n",
       "    .dataframe tbody tr th {\n",
       "        vertical-align: top;\n",
       "    }\n",
       "\n",
       "    .dataframe thead th {\n",
       "        text-align: right;\n",
       "    }\n",
       "</style>\n",
       "<table border=\"1\" class=\"dataframe\">\n",
       "  <thead>\n",
       "    <tr style=\"text-align: right;\">\n",
       "      <th></th>\n",
       "      <th>Population</th>\n",
       "      <th>Superficie (en km²)</th>\n",
       "    </tr>\n",
       "  </thead>\n",
       "  <tbody>\n",
       "    <tr>\n",
       "      <th>count</th>\n",
       "      <td>1.200000e+01</td>\n",
       "      <td>12.000000</td>\n",
       "    </tr>\n",
       "    <tr>\n",
       "      <th>mean</th>\n",
       "      <td>1.042196e+06</td>\n",
       "      <td>9563.583333</td>\n",
       "    </tr>\n",
       "    <tr>\n",
       "      <th>std</th>\n",
       "      <td>2.716473e+05</td>\n",
       "      <td>9799.336253</td>\n",
       "    </tr>\n",
       "    <tr>\n",
       "      <th>min</th>\n",
       "      <td>6.466840e+05</td>\n",
       "      <td>79.000000</td>\n",
       "    </tr>\n",
       "    <tr>\n",
       "      <th>25%</th>\n",
       "      <td>9.099985e+05</td>\n",
       "      <td>2204.250000</td>\n",
       "    </tr>\n",
       "    <tr>\n",
       "      <th>50%</th>\n",
       "      <td>1.002497e+06</td>\n",
       "      <td>4253.500000</td>\n",
       "    </tr>\n",
       "    <tr>\n",
       "      <th>75%</th>\n",
       "      <td>1.255948e+06</td>\n",
       "      <td>15573.000000</td>\n",
       "    </tr>\n",
       "    <tr>\n",
       "      <th>max</th>\n",
       "      <td>1.480983e+06</td>\n",
       "      <td>26242.000000</td>\n",
       "    </tr>\n",
       "  </tbody>\n",
       "</table>\n",
       "</div>"
      ],
      "text/plain": [
       "         Population  Superficie (en km²)\n",
       "count  1.200000e+01            12.000000\n",
       "mean   1.042196e+06          9563.583333\n",
       "std    2.716473e+05          9799.336253\n",
       "min    6.466840e+05            79.000000\n",
       "25%    9.099985e+05          2204.250000\n",
       "50%    1.002497e+06          4253.500000\n",
       "75%    1.255948e+06         15573.000000\n",
       "max    1.480983e+06         26242.000000"
      ]
     },
     "execution_count": 11,
     "metadata": {},
     "output_type": "execute_result"
    }
   ],
   "source": [
    "df.describe()"
   ]
  },
  {
   "cell_type": "code",
   "execution_count": 12,
   "id": "b963d7b2",
   "metadata": {},
   "outputs": [
    {
     "data": {
      "text/plain": [
       "Département            object\n",
       "Population              int64\n",
       "Superficie (en km²)     int64\n",
       "dtype: object"
      ]
     },
     "execution_count": 12,
     "metadata": {},
     "output_type": "execute_result"
    }
   ],
   "source": [
    "df.dtypes"
   ]
  },
  {
   "cell_type": "code",
   "execution_count": 13,
   "id": "e4fc9631",
   "metadata": {},
   "outputs": [
    {
     "data": {
      "text/plain": [
       "0     Atlantique\n",
       "1          Ouémé\n",
       "2         Borgou\n",
       "3       Littoral\n",
       "4            Zou\n",
       "5        Atacora\n",
       "6       Collines\n",
       "7         Couffo\n",
       "8        Alibori\n",
       "9        Plateau\n",
       "10          Mono\n",
       "11         Donga\n",
       "Name: Département, dtype: object"
      ]
     },
     "execution_count": 13,
     "metadata": {},
     "output_type": "execute_result"
    }
   ],
   "source": [
    "df.Département"
   ]
  },
  {
   "cell_type": "code",
   "execution_count": 14,
   "id": "01d1e86f",
   "metadata": {},
   "outputs": [
    {
     "data": {
      "text/html": [
       "<div>\n",
       "<style scoped>\n",
       "    .dataframe tbody tr th:only-of-type {\n",
       "        vertical-align: middle;\n",
       "    }\n",
       "\n",
       "    .dataframe tbody tr th {\n",
       "        vertical-align: top;\n",
       "    }\n",
       "\n",
       "    .dataframe thead th {\n",
       "        text-align: right;\n",
       "    }\n",
       "</style>\n",
       "<table border=\"1\" class=\"dataframe\">\n",
       "  <thead>\n",
       "    <tr style=\"text-align: right;\">\n",
       "      <th></th>\n",
       "      <th>Superficie (en km²)</th>\n",
       "      <th>Population</th>\n",
       "      <th>Département</th>\n",
       "    </tr>\n",
       "  </thead>\n",
       "  <tbody>\n",
       "    <tr>\n",
       "      <th>0</th>\n",
       "      <td>3233</td>\n",
       "      <td>1480983</td>\n",
       "      <td>Atlantique</td>\n",
       "    </tr>\n",
       "    <tr>\n",
       "      <th>1</th>\n",
       "      <td>1281</td>\n",
       "      <td>1349986</td>\n",
       "      <td>Ouémé</td>\n",
       "    </tr>\n",
       "    <tr>\n",
       "      <th>2</th>\n",
       "      <td>25856</td>\n",
       "      <td>1337792</td>\n",
       "      <td>Borgou</td>\n",
       "    </tr>\n",
       "    <tr>\n",
       "      <th>3</th>\n",
       "      <td>79</td>\n",
       "      <td>1228667</td>\n",
       "      <td>Littoral</td>\n",
       "    </tr>\n",
       "    <tr>\n",
       "      <th>4</th>\n",
       "      <td>5243</td>\n",
       "      <td>1108320</td>\n",
       "      <td>Zou</td>\n",
       "    </tr>\n",
       "    <tr>\n",
       "      <th>5</th>\n",
       "      <td>20499</td>\n",
       "      <td>1014961</td>\n",
       "      <td>Atacora</td>\n",
       "    </tr>\n",
       "    <tr>\n",
       "      <th>6</th>\n",
       "      <td>13931</td>\n",
       "      <td>990033</td>\n",
       "      <td>Collines</td>\n",
       "    </tr>\n",
       "    <tr>\n",
       "      <th>7</th>\n",
       "      <td>2404</td>\n",
       "      <td>969090</td>\n",
       "      <td>Couffo</td>\n",
       "    </tr>\n",
       "    <tr>\n",
       "      <th>8</th>\n",
       "      <td>26242</td>\n",
       "      <td>962637</td>\n",
       "      <td>Alibori</td>\n",
       "    </tr>\n",
       "    <tr>\n",
       "      <th>9</th>\n",
       "      <td>3264</td>\n",
       "      <td>752083</td>\n",
       "      <td>Plateau</td>\n",
       "    </tr>\n",
       "    <tr>\n",
       "      <th>10</th>\n",
       "      <td>1605</td>\n",
       "      <td>665111</td>\n",
       "      <td>Mono</td>\n",
       "    </tr>\n",
       "    <tr>\n",
       "      <th>11</th>\n",
       "      <td>11126</td>\n",
       "      <td>646684</td>\n",
       "      <td>Donga</td>\n",
       "    </tr>\n",
       "  </tbody>\n",
       "</table>\n",
       "</div>"
      ],
      "text/plain": [
       "    Superficie (en km²)  Population Département\n",
       "0                  3233     1480983  Atlantique\n",
       "1                  1281     1349986       Ouémé\n",
       "2                 25856     1337792      Borgou\n",
       "3                    79     1228667    Littoral\n",
       "4                  5243     1108320         Zou\n",
       "5                 20499     1014961     Atacora\n",
       "6                 13931      990033    Collines\n",
       "7                  2404      969090      Couffo\n",
       "8                 26242      962637     Alibori\n",
       "9                  3264      752083     Plateau\n",
       "10                 1605      665111        Mono\n",
       "11                11126      646684       Donga"
      ]
     },
     "execution_count": 14,
     "metadata": {},
     "output_type": "execute_result"
    }
   ],
   "source": [
    "df.sort_index(axis=1, ascending=False)"
   ]
  },
  {
   "cell_type": "code",
   "execution_count": 15,
   "id": "7caea907",
   "metadata": {},
   "outputs": [
    {
     "data": {
      "text/plain": [
       "1042195.5833333334"
      ]
     },
     "execution_count": 15,
     "metadata": {},
     "output_type": "execute_result"
    }
   ],
   "source": [
    "population_mean = df.Population.mean()\n",
    "population_mean"
   ]
  },
  {
   "cell_type": "code",
   "execution_count": 16,
   "id": "37cc9378",
   "metadata": {},
   "outputs": [
    {
     "data": {
      "text/html": [
       "<div>\n",
       "<style scoped>\n",
       "    .dataframe tbody tr th:only-of-type {\n",
       "        vertical-align: middle;\n",
       "    }\n",
       "\n",
       "    .dataframe tbody tr th {\n",
       "        vertical-align: top;\n",
       "    }\n",
       "\n",
       "    .dataframe thead th {\n",
       "        text-align: right;\n",
       "    }\n",
       "</style>\n",
       "<table border=\"1\" class=\"dataframe\">\n",
       "  <thead>\n",
       "    <tr style=\"text-align: right;\">\n",
       "      <th></th>\n",
       "      <th>Département</th>\n",
       "      <th>Population</th>\n",
       "      <th>Superficie (en km²)</th>\n",
       "    </tr>\n",
       "  </thead>\n",
       "  <tbody>\n",
       "    <tr>\n",
       "      <th>0</th>\n",
       "      <td>Atlantique</td>\n",
       "      <td>1480983</td>\n",
       "      <td>3233</td>\n",
       "    </tr>\n",
       "    <tr>\n",
       "      <th>1</th>\n",
       "      <td>Ouémé</td>\n",
       "      <td>1349986</td>\n",
       "      <td>1281</td>\n",
       "    </tr>\n",
       "    <tr>\n",
       "      <th>2</th>\n",
       "      <td>Borgou</td>\n",
       "      <td>1337792</td>\n",
       "      <td>25856</td>\n",
       "    </tr>\n",
       "    <tr>\n",
       "      <th>3</th>\n",
       "      <td>Littoral</td>\n",
       "      <td>1228667</td>\n",
       "      <td>79</td>\n",
       "    </tr>\n",
       "    <tr>\n",
       "      <th>4</th>\n",
       "      <td>Zou</td>\n",
       "      <td>1108320</td>\n",
       "      <td>5243</td>\n",
       "    </tr>\n",
       "  </tbody>\n",
       "</table>\n",
       "</div>"
      ],
      "text/plain": [
       "  Département  Population  Superficie (en km²)\n",
       "0  Atlantique     1480983                 3233\n",
       "1       Ouémé     1349986                 1281\n",
       "2      Borgou     1337792                25856\n",
       "3    Littoral     1228667                   79\n",
       "4         Zou     1108320                 5243"
      ]
     },
     "execution_count": 16,
     "metadata": {},
     "output_type": "execute_result"
    }
   ],
   "source": [
    "df[df.Population > population_mean]"
   ]
  },
  {
   "cell_type": "code",
   "execution_count": 17,
   "id": "89b1f8e5",
   "metadata": {},
   "outputs": [
    {
     "data": {
      "text/plain": [
       "646684"
      ]
     },
     "execution_count": 17,
     "metadata": {},
     "output_type": "execute_result"
    }
   ],
   "source": [
    "df.Population.min()"
   ]
  },
  {
   "cell_type": "code",
   "execution_count": 18,
   "id": "0cfe76d6",
   "metadata": {},
   "outputs": [
    {
     "data": {
      "text/plain": [
       "114763"
      ]
     },
     "execution_count": 18,
     "metadata": {},
     "output_type": "execute_result"
    }
   ],
   "source": [
    "df['Superficie (en km²)'].sum()"
   ]
  },
  {
   "cell_type": "code",
   "execution_count": 29,
   "id": "552a4df3",
   "metadata": {},
   "outputs": [],
   "source": [
    "sup_mean = df['Superficie (en km²)'].mean()\n",
    "df1 = df[df['Superficie (en km²)'] <= sup_mean]"
   ]
  },
  {
   "cell_type": "code",
   "execution_count": 30,
   "id": "bae51996",
   "metadata": {},
   "outputs": [
    {
     "data": {
      "text/html": [
       "<div>\n",
       "<style scoped>\n",
       "    .dataframe tbody tr th:only-of-type {\n",
       "        vertical-align: middle;\n",
       "    }\n",
       "\n",
       "    .dataframe tbody tr th {\n",
       "        vertical-align: top;\n",
       "    }\n",
       "\n",
       "    .dataframe thead th {\n",
       "        text-align: right;\n",
       "    }\n",
       "</style>\n",
       "<table border=\"1\" class=\"dataframe\">\n",
       "  <thead>\n",
       "    <tr style=\"text-align: right;\">\n",
       "      <th></th>\n",
       "      <th>Département</th>\n",
       "      <th>Population</th>\n",
       "      <th>Superficie (en km²)</th>\n",
       "    </tr>\n",
       "  </thead>\n",
       "  <tbody>\n",
       "    <tr>\n",
       "      <th>0</th>\n",
       "      <td>Atlantique</td>\n",
       "      <td>1480983</td>\n",
       "      <td>3233</td>\n",
       "    </tr>\n",
       "    <tr>\n",
       "      <th>1</th>\n",
       "      <td>Ouémé</td>\n",
       "      <td>1349986</td>\n",
       "      <td>1281</td>\n",
       "    </tr>\n",
       "    <tr>\n",
       "      <th>3</th>\n",
       "      <td>Littoral</td>\n",
       "      <td>1228667</td>\n",
       "      <td>79</td>\n",
       "    </tr>\n",
       "    <tr>\n",
       "      <th>4</th>\n",
       "      <td>Zou</td>\n",
       "      <td>1108320</td>\n",
       "      <td>5243</td>\n",
       "    </tr>\n",
       "    <tr>\n",
       "      <th>7</th>\n",
       "      <td>Couffo</td>\n",
       "      <td>969090</td>\n",
       "      <td>2404</td>\n",
       "    </tr>\n",
       "    <tr>\n",
       "      <th>9</th>\n",
       "      <td>Plateau</td>\n",
       "      <td>752083</td>\n",
       "      <td>3264</td>\n",
       "    </tr>\n",
       "    <tr>\n",
       "      <th>10</th>\n",
       "      <td>Mono</td>\n",
       "      <td>665111</td>\n",
       "      <td>1605</td>\n",
       "    </tr>\n",
       "  </tbody>\n",
       "</table>\n",
       "</div>"
      ],
      "text/plain": [
       "   Département  Population  Superficie (en km²)\n",
       "0   Atlantique     1480983                 3233\n",
       "1        Ouémé     1349986                 1281\n",
       "3     Littoral     1228667                   79\n",
       "4          Zou     1108320                 5243\n",
       "7       Couffo      969090                 2404\n",
       "9      Plateau      752083                 3264\n",
       "10        Mono      665111                 1605"
      ]
     },
     "execution_count": 30,
     "metadata": {},
     "output_type": "execute_result"
    }
   ],
   "source": [
    "df1"
   ]
  },
  {
   "cell_type": "code",
   "execution_count": 27,
   "id": "2e72f7f8",
   "metadata": {},
   "outputs": [
    {
     "data": {
      "text/plain": [
       "Donga         1\n",
       "Collines      1\n",
       "Borgou        1\n",
       "Alibori       1\n",
       "Zou           1\n",
       "Atacora       1\n",
       "Atlantique    1\n",
       "Littoral      1\n",
       "Ouémé         1\n",
       "Mono          1\n",
       "Couffo        1\n",
       "Plateau       1\n",
       "Name: Département, dtype: int64"
      ]
     },
     "execution_count": 27,
     "metadata": {},
     "output_type": "execute_result"
    }
   ],
   "source": [
    "df['Département'].value_counts()"
   ]
  },
  {
   "cell_type": "code",
   "execution_count": 28,
   "id": "c8c037d2",
   "metadata": {},
   "outputs": [
    {
     "data": {
      "text/plain": [
       "Département                Zou\n",
       "Population             1108320\n",
       "Superficie (en km²)       5243\n",
       "Name: 4, dtype: object"
      ]
     },
     "execution_count": 28,
     "metadata": {},
     "output_type": "execute_result"
    }
   ],
   "source": [
    "df.iloc[4]"
   ]
  },
  {
   "cell_type": "code",
   "execution_count": 31,
   "id": "6bc37411",
   "metadata": {},
   "outputs": [
    {
     "data": {
      "image/png": "[encoded data removed]",
      "text/plain": [
       "<Figure size 720x576 with 1 Axes>"
      ]
     },
     "metadata": {},
     "output_type": "display_data"
    }
   ],
   "source": [
    "fig, ax  = plt.subplots(figsize=(10, 8))\n",
    "title = 'Percentage of population in each department'\n",
    "fig.suptitle(title, fontsize=24, font=\"Serif\")\n",
    "labels = list(df['Département'].value_counts().index)\n",
    "colors_list = [\"#0089e1\",\"#f59689\",\"#e46fa5\",'#a5abf9',\"#eb4fa5\",\"#fd7ee3\"]\n",
    "ax.pie(df['Population'], labels=labels, autopct='%1.2f%%', pctdistance=0.7, colors=colors_list)\n",
    "ax.add_artist(plt.Circle((0,0), 0.3, fc='white'))\n",
    "plt.show()"
   ]
  },
  {
   "cell_type": "code",
   "execution_count": 32,
   "id": "15b881bc",
   "metadata": {},
   "outputs": [
    {
     "name": "stderr",
     "output_type": "stream",
     "text": [
      "C:\\Users\\HP\\anaconda3\\lib\\site-packages\\seaborn\\categorical.py:3714: UserWarning: The `factorplot` function has been renamed to `catplot`. The original name will be removed in a future release. Please update your code. Note that the default `kind` in `factorplot` (`'point'`) has changed `'strip'` in `catplot`.\n",
      "  warnings.warn(msg)\n",
      "C:\\Users\\HP\\anaconda3\\lib\\site-packages\\seaborn\\_decorators.py:36: FutureWarning: Pass the following variables as keyword args: x, y. From version 0.12, the only valid positional argument will be `data`, and passing other arguments without an explicit keyword will result in an error or misinterpretation.\n",
      "  warnings.warn(\n"
     ]
    },
    {
     "data": {
      "image/png": "[encoded data removed]",
      "text/plain": [
       "<Figure size 1080x360 with 1 Axes>"
      ]
     },
     "metadata": {},
     "output_type": "display_data"
    }
   ],
   "source": [
    "with sns.axes_style('white'):\n",
    "    g = sns.factorplot(\"Département\", \"Population\", data=df, aspect=3,\n",
    "                        color='orange')\n",
    "    g.set_xticklabels(step=1)"
   ]
  },
  {
   "cell_type": "code",
   "execution_count": 33,
   "id": "41a00d60",
   "metadata": {},
   "outputs": [
    {
     "data": {
      "image/png": "[encoded data removed]",
      "text/plain": [
       "<Figure size 720x576 with 1 Axes>"
      ]
     },
     "metadata": {},
     "output_type": "display_data"
    }
   ],
   "source": [
    "fig, ax  = plt.subplots(figsize=(10, 8))\n",
    "title = 'Percentage of area of each department'\n",
    "fig.suptitle(title, fontsize=24, font=\"Serif\")\n",
    "labels = list(df['Département'].value_counts().index)\n",
    "explode = (0, 0.25, 0, 0.25, 0, 0, 0, 0, 0, 0, 0.28, 0)\n",
    "colors=[\"#0089e1\",\"#f59689\",\"#e46fa5\",'#a5abf9',\"#eb4fa5\",\"#fd7ee3\"]\n",
    "ax.pie(df['Superficie (en km²)'], explode=explode, labels=labels, autopct='%1.2f%%', pctdistance=0.46, colors=colors)\n",
    "ax.add_artist(plt.Circle((0,0), 0.15, fc='white'))\n",
    "plt.show()"
   ]
  },
  {
   "cell_type": "code",
   "execution_count": 34,
   "id": "4aa91685",
   "metadata": {},
   "outputs": [
    {
     "name": "stderr",
     "output_type": "stream",
     "text": [
      "C:\\Users\\HP\\anaconda3\\lib\\site-packages\\seaborn\\categorical.py:3714: UserWarning: The `factorplot` function has been renamed to `catplot`. The original name will be removed in a future release. Please update your code. Note that the default `kind` in `factorplot` (`'point'`) has changed `'strip'` in `catplot`.\n",
      "  warnings.warn(msg)\n",
      "C:\\Users\\HP\\anaconda3\\lib\\site-packages\\seaborn\\_decorators.py:36: FutureWarning: Pass the following variables as keyword args: x, y. From version 0.12, the only valid positional argument will be `data`, and passing other arguments without an explicit keyword will result in an error or misinterpretation.\n",
      "  warnings.warn(\n"
     ]
    },
    {
     "data": {
      "image/png": "[encoded data removed]",
      "text/plain": [
       "<Figure size 1080x360 with 1 Axes>"
      ]
     },
     "metadata": {},
     "output_type": "display_data"
    }
   ],
   "source": [
    "with sns.axes_style('white'):\n",
    "    g = sns.factorplot(\"Département\", \"Superficie (en km²)\", data=df, aspect=3,\n",
    "                        color='steelblue')\n",
    "    g.set_xticklabels(step=1)"
   ]
  },
  {
   "cell_type": "code",
   "execution_count": 35,
   "id": "a697a55d",
   "metadata": {},
   "outputs": [
    {
     "data": {
      "image/png": "[encoded data removed]",
      "text/plain": [
       "<Figure size 720x360 with 1 Axes>"
      ]
     },
     "metadata": {},
     "output_type": "display_data"
    }
   ],
   "source": [
    "with sns.axes_style('white'):\n",
    "    g = sns.catplot(x=\"Département\", y=\"Superficie (en km²)\", data=df1, aspect=2,\n",
    "                        color='red')\n",
    "    g.set_xticklabels(step=1)\n"
   ]
  }
 ],
 "metadata": {
  "kernelspec": {
   "display_name": "Python 3",
   "language": "python",
   "name": "python3"
  },
  "language_info": {
   "codemirror_mode": {
    "name": "ipython",
    "version": 3
   },
   "file_extension": ".py",
   "mimetype": "text/x-python",
   "name": "python",
   "nbconvert_exporter": "python",
   "pygments_lexer": "ipython3",
   "version": "3.8.8"
  }
 },
 "nbformat": 4,
 "nbformat_minor": 5
}
